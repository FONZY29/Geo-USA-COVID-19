{
  "cells": [
    {
      "cell_type": "markdown",
      "metadata": {
        "id": "view-in-github",
        "colab_type": "text"
      },
      "source": [
        "<a href=\"https://colab.research.google.com/github/FONZY29/Geo-USA-COVID-19/blob/main/Untitled16.ipynb\" target=\"_parent\"><img src=\"https://colab.research.google.com/assets/colab-badge.svg\" alt=\"Open In Colab\"/></a>"
      ]
    },
    {
      "cell_type": "code",
      "execution_count": 64,
      "metadata": {
        "id": "2ziqgNvVhW76"
      },
      "outputs": [],
      "source": [
        "import pandas as pd"
      ]
    },
    {
      "cell_type": "code",
      "execution_count": null,
      "metadata": {
        "id": "zo073dUTh0oS"
      },
      "outputs": [],
      "source": [
        "My_Data = pd.read_csv('/content/usa_county_wise.csv')"
      ]
    },
    {
      "cell_type": "code",
      "execution_count": null,
      "metadata": {
        "id": "j0b4gi4kh0rm",
        "colab": {
          "base_uri": "https://localhost:8080/"
        },
        "outputId": "7d109a65-7939-4988-c5fc-17b0b5638bf3"
      },
      "outputs": [
        {
          "output_type": "stream",
          "name": "stdout",
          "text": [
            "<class 'pandas.core.frame.DataFrame'>\n",
            "RangeIndex: 627920 entries, 0 to 627919\n",
            "Data columns (total 14 columns):\n",
            " #   Column          Non-Null Count   Dtype  \n",
            "---  ------          --------------   -----  \n",
            " 0   UID             627920 non-null  int64  \n",
            " 1   iso2            627920 non-null  object \n",
            " 2   iso3            627920 non-null  object \n",
            " 3   code3           627920 non-null  int64  \n",
            " 4   FIPS            626040 non-null  float64\n",
            " 5   Admin2          626792 non-null  object \n",
            " 6   Province_State  627920 non-null  object \n",
            " 7   Country_Region  627920 non-null  object \n",
            " 8   Lat             627920 non-null  float64\n",
            " 9   Long_           627920 non-null  float64\n",
            " 10  Combined_Key    627920 non-null  object \n",
            " 11  Date            627920 non-null  object \n",
            " 12  Confirmed       627920 non-null  int64  \n",
            " 13  Deaths          627920 non-null  int64  \n",
            "dtypes: float64(3), int64(4), object(7)\n",
            "memory usage: 67.1+ MB\n",
            "None\n"
          ]
        }
      ],
      "source": [
        "print(My_Data.info())"
      ]
    },
    {
      "cell_type": "code",
      "execution_count": null,
      "metadata": {
        "id": "LmIqVxnNh0wF",
        "colab": {
          "base_uri": "https://localhost:8080/"
        },
        "outputId": "6c5b6432-5ace-4478-b203-0fabcb2ab626"
      },
      "outputs": [
        {
          "output_type": "stream",
          "name": "stdout",
          "text": [
            "UID                  0\n",
            "iso2                 0\n",
            "iso3                 0\n",
            "code3                0\n",
            "FIPS              1880\n",
            "Admin2            1128\n",
            "Province_State       0\n",
            "Country_Region       0\n",
            "Lat                  0\n",
            "Long_                0\n",
            "Combined_Key         0\n",
            "Date                 0\n",
            "Confirmed            0\n",
            "Deaths               0\n",
            "dtype: int64\n"
          ]
        }
      ],
      "source": [
        "print(My_Data.isnull().sum())"
      ]
    },
    {
      "cell_type": "code",
      "execution_count": null,
      "metadata": {
        "id": "mv7rzwLsisrr"
      },
      "outputs": [],
      "source": [
        "# Remove rows with any NaN values\n",
        "Country_wise= My_Data.dropna()"
      ]
    },
    {
      "cell_type": "code",
      "execution_count": null,
      "metadata": {
        "id": "Pedq24IlizZ2",
        "colab": {
          "base_uri": "https://localhost:8080/"
        },
        "outputId": "a23f3ce5-ddc2-420e-9485-efd0fd20664f"
      },
      "outputs": [
        {
          "output_type": "stream",
          "name": "stdout",
          "text": [
            "             UID iso2 iso3  code3     FIPS        Admin2 Province_State  \\\n",
            "3       63072001   PR  PRI    630  72001.0      Adjuntas    Puerto Rico   \n",
            "4       63072003   PR  PRI    630  72003.0        Aguada    Puerto Rico   \n",
            "5       63072005   PR  PRI    630  72005.0     Aguadilla    Puerto Rico   \n",
            "6       63072007   PR  PRI    630  72007.0  Aguas Buenas    Puerto Rico   \n",
            "7       63072009   PR  PRI    630  72009.0      Aibonito    Puerto Rico   \n",
            "...          ...  ...  ...    ...      ...           ...            ...   \n",
            "627904  84090051   US  USA    840  90051.0    Unassigned       Virginia   \n",
            "627905  84090053   US  USA    840  90053.0    Unassigned     Washington   \n",
            "627906  84090054   US  USA    840  90054.0    Unassigned  West Virginia   \n",
            "627907  84090055   US  USA    840  90055.0    Unassigned      Wisconsin   \n",
            "627908  84090056   US  USA    840  90056.0    Unassigned        Wyoming   \n",
            "\n",
            "       Country_Region        Lat      Long_                   Combined_Key  \\\n",
            "3                  US  18.180117 -66.754367      Adjuntas, Puerto Rico, US   \n",
            "4                  US  18.360255 -67.175131        Aguada, Puerto Rico, US   \n",
            "5                  US  18.459681 -67.120815     Aguadilla, Puerto Rico, US   \n",
            "6                  US  18.251619 -66.126806  Aguas Buenas, Puerto Rico, US   \n",
            "7                  US  18.131361 -66.264131      Aibonito, Puerto Rico, US   \n",
            "...               ...        ...        ...                            ...   \n",
            "627904             US   0.000000   0.000000       Unassigned, Virginia, US   \n",
            "627905             US   0.000000   0.000000     Unassigned, Washington, US   \n",
            "627906             US   0.000000   0.000000  Unassigned, West Virginia, US   \n",
            "627907             US   0.000000   0.000000      Unassigned, Wisconsin, US   \n",
            "627908             US   0.000000   0.000000        Unassigned, Wyoming, US   \n",
            "\n",
            "           Date  Confirmed  Deaths  \n",
            "3       1/22/20          0       0  \n",
            "4       1/22/20          0       0  \n",
            "5       1/22/20          0       0  \n",
            "6       1/22/20          0       0  \n",
            "7       1/22/20          0       0  \n",
            "...         ...        ...     ...  \n",
            "627904  7/27/20          0       0  \n",
            "627905  7/27/20        173       0  \n",
            "627906  7/27/20          0       0  \n",
            "627907  7/27/20          0       0  \n",
            "627908  7/27/20          0       0  \n",
            "\n",
            "[624912 rows x 14 columns]\n"
          ]
        }
      ],
      "source": [
        "print(Country_wise)"
      ]
    },
    {
      "cell_type": "code",
      "execution_count": null,
      "metadata": {
        "id": "rjJF_zlAiziC",
        "colab": {
          "base_uri": "https://localhost:8080/"
        },
        "outputId": "951bb8f7-b2d9-4469-899c-7016f6efd6ec"
      },
      "outputs": [
        {
          "output_type": "stream",
          "name": "stdout",
          "text": [
            "                 UID    iso2    iso3          code3           FIPS  \\\n",
            "count   6.279200e+05  627920  627920  627920.000000  626040.000000   \n",
            "unique           NaN       6       6            NaN            NaN   \n",
            "top              NaN      US     USA            NaN            NaN   \n",
            "freq             NaN  612128  612128            NaN            NaN   \n",
            "mean    8.342958e+07     NaN     NaN     834.491617   33061.684685   \n",
            "std     4.314702e+06     NaN     NaN      36.492620   18636.156825   \n",
            "min     1.600000e+01     NaN     NaN      16.000000      60.000000   \n",
            "25%     8.401811e+07     NaN     NaN     840.000000   19079.000000   \n",
            "50%     8.402921e+07     NaN     NaN     840.000000   31014.000000   \n",
            "75%     8.404612e+07     NaN     NaN     840.000000   47131.000000   \n",
            "max     8.410000e+07     NaN     NaN     850.000000   99999.000000   \n",
            "\n",
            "            Admin2 Province_State Country_Region            Lat  \\\n",
            "count       626792         627920         627920  627920.000000   \n",
            "unique        1978             58              1            NaN   \n",
            "top     Unassigned          Texas             US            NaN   \n",
            "freq          9776          48128         627920            NaN   \n",
            "mean           NaN            NaN            NaN      36.707212   \n",
            "std            NaN            NaN            NaN       9.061572   \n",
            "min            NaN            NaN            NaN     -14.271000   \n",
            "25%            NaN            NaN            NaN      33.895587   \n",
            "50%            NaN            NaN            NaN      38.002344   \n",
            "75%            NaN            NaN            NaN      41.573069   \n",
            "max            NaN            NaN            NaN      69.314792   \n",
            "\n",
            "                Long_        Combined_Key     Date      Confirmed  \\\n",
            "count   627920.000000              627920   627920  627920.000000   \n",
            "unique            NaN                3340      188            NaN   \n",
            "top               NaN  American Samoa, US  1/22/20            NaN   \n",
            "freq              NaN                 188     3340            NaN   \n",
            "mean       -88.601474                 NaN      NaN     357.284285   \n",
            "std         21.715747                 NaN      NaN    3487.282694   \n",
            "min       -174.159600                 NaN      NaN       0.000000   \n",
            "25%        -97.790204                 NaN      NaN       0.000000   \n",
            "50%        -89.486710                 NaN      NaN       4.000000   \n",
            "75%        -82.311265                 NaN      NaN      63.000000   \n",
            "max        145.673900                 NaN      NaN  224051.000000   \n",
            "\n",
            "               Deaths  \n",
            "count   627920.000000  \n",
            "unique            NaN  \n",
            "top               NaN  \n",
            "freq              NaN  \n",
            "mean        17.536328  \n",
            "std        300.991466  \n",
            "min          0.000000  \n",
            "25%          0.000000  \n",
            "50%          0.000000  \n",
            "75%          1.000000  \n",
            "max      23500.000000  \n"
          ]
        }
      ],
      "source": [
        "Data_Type_all = My_Data.describe(include='all')\n",
        "print(Data_Type_all)"
      ]
    },
    {
      "cell_type": "code",
      "execution_count": null,
      "metadata": {
        "id": "QM3HAe2ai_L0",
        "colab": {
          "base_uri": "https://localhost:8080/"
        },
        "outputId": "36f6584e-5587-45e7-f640-4f457ae2e0cb"
      },
      "outputs": [
        {
          "output_type": "stream",
          "name": "stdout",
          "text": [
            "UID                 int64\n",
            "iso2               object\n",
            "iso3               object\n",
            "code3               int64\n",
            "FIPS              float64\n",
            "Admin2             object\n",
            "Province_State     object\n",
            "Country_Region     object\n",
            "Lat               float64\n",
            "Long_             float64\n",
            "Combined_Key       object\n",
            "Date               object\n",
            "Confirmed           int64\n",
            "Deaths              int64\n",
            "dtype: object\n"
          ]
        }
      ],
      "source": [
        "Data_Type= Country_wise.dtypes\n",
        "print(Data_Type)"
      ]
    },
    {
      "cell_type": "code",
      "execution_count": null,
      "metadata": {
        "id": "59DJpfAyjFe2",
        "colab": {
          "base_uri": "https://localhost:8080/"
        },
        "outputId": "267bd306-9e42-4858-dc0f-77a41f547bf6"
      },
      "outputs": [
        {
          "output_type": "stream",
          "name": "stdout",
          "text": [
            "         UID iso2 iso3  code3     FIPS        Admin2 Province_State  \\\n",
            "3   63072001   PR  PRI    630  72001.0      Adjuntas    Puerto Rico   \n",
            "4   63072003   PR  PRI    630  72003.0        Aguada    Puerto Rico   \n",
            "5   63072005   PR  PRI    630  72005.0     Aguadilla    Puerto Rico   \n",
            "6   63072007   PR  PRI    630  72007.0  Aguas Buenas    Puerto Rico   \n",
            "7   63072009   PR  PRI    630  72009.0      Aibonito    Puerto Rico   \n",
            "8   63072011   PR  PRI    630  72011.0        Anasco    Puerto Rico   \n",
            "9   63072013   PR  PRI    630  72013.0       Arecibo    Puerto Rico   \n",
            "10  63072015   PR  PRI    630  72015.0        Arroyo    Puerto Rico   \n",
            "11  63072017   PR  PRI    630  72017.0   Barceloneta    Puerto Rico   \n",
            "12  63072019   PR  PRI    630  72019.0  Barranquitas    Puerto Rico   \n",
            "\n",
            "   Country_Region        Lat      Long_                   Combined_Key  \\\n",
            "3              US  18.180117 -66.754367      Adjuntas, Puerto Rico, US   \n",
            "4              US  18.360255 -67.175131        Aguada, Puerto Rico, US   \n",
            "5              US  18.459681 -67.120815     Aguadilla, Puerto Rico, US   \n",
            "6              US  18.251619 -66.126806  Aguas Buenas, Puerto Rico, US   \n",
            "7              US  18.131361 -66.264131      Aibonito, Puerto Rico, US   \n",
            "8              US  18.287985 -67.120611        Anasco, Puerto Rico, US   \n",
            "9              US  18.406631 -66.675077       Arecibo, Puerto Rico, US   \n",
            "10             US  17.998457 -66.056546        Arroyo, Puerto Rico, US   \n",
            "11             US  18.445533 -66.560531   Barceloneta, Puerto Rico, US   \n",
            "12             US  18.201592 -66.309630  Barranquitas, Puerto Rico, US   \n",
            "\n",
            "       Date  Confirmed  Deaths  \n",
            "3   1/22/20          0       0  \n",
            "4   1/22/20          0       0  \n",
            "5   1/22/20          0       0  \n",
            "6   1/22/20          0       0  \n",
            "7   1/22/20          0       0  \n",
            "8   1/22/20          0       0  \n",
            "9   1/22/20          0       0  \n",
            "10  1/22/20          0       0  \n",
            "11  1/22/20          0       0  \n",
            "12  1/22/20          0       0  \n"
          ]
        }
      ],
      "source": [
        "print(Country_wise.head(10))"
      ]
    },
    {
      "cell_type": "code",
      "execution_count": null,
      "metadata": {
        "id": "QDojTSQsjFmZ",
        "colab": {
          "base_uri": "https://localhost:8080/"
        },
        "outputId": "f006e6e7-d4a3-4b2d-d326-af0dbfa1cd02"
      },
      "outputs": [
        {
          "output_type": "stream",
          "name": "stdout",
          "text": [
            "             UID iso2 iso3  code3     FIPS      Admin2 Province_State  \\\n",
            "627899  84090046   US  USA    840  90046.0  Unassigned   South Dakota   \n",
            "627900  84090047   US  USA    840  90047.0  Unassigned      Tennessee   \n",
            "627901  84090048   US  USA    840  90048.0  Unassigned          Texas   \n",
            "627902  84090049   US  USA    840  90049.0  Unassigned           Utah   \n",
            "627903  84090050   US  USA    840  90050.0  Unassigned        Vermont   \n",
            "627904  84090051   US  USA    840  90051.0  Unassigned       Virginia   \n",
            "627905  84090053   US  USA    840  90053.0  Unassigned     Washington   \n",
            "627906  84090054   US  USA    840  90054.0  Unassigned  West Virginia   \n",
            "627907  84090055   US  USA    840  90055.0  Unassigned      Wisconsin   \n",
            "627908  84090056   US  USA    840  90056.0  Unassigned        Wyoming   \n",
            "\n",
            "       Country_Region  Lat  Long_                   Combined_Key     Date  \\\n",
            "627899             US  0.0    0.0   Unassigned, South Dakota, US  7/27/20   \n",
            "627900             US  0.0    0.0      Unassigned, Tennessee, US  7/27/20   \n",
            "627901             US  0.0    0.0          Unassigned, Texas, US  7/27/20   \n",
            "627902             US  0.0    0.0           Unassigned, Utah, US  7/27/20   \n",
            "627903             US  0.0    0.0        Unassigned, Vermont, US  7/27/20   \n",
            "627904             US  0.0    0.0       Unassigned, Virginia, US  7/27/20   \n",
            "627905             US  0.0    0.0     Unassigned, Washington, US  7/27/20   \n",
            "627906             US  0.0    0.0  Unassigned, West Virginia, US  7/27/20   \n",
            "627907             US  0.0    0.0      Unassigned, Wisconsin, US  7/27/20   \n",
            "627908             US  0.0    0.0        Unassigned, Wyoming, US  7/27/20   \n",
            "\n",
            "        Confirmed  Deaths  \n",
            "627899          0    1004  \n",
            "627900       2907       0  \n",
            "627901          0       1  \n",
            "627902          0       3  \n",
            "627903          7      81  \n",
            "627904          0       0  \n",
            "627905        173       0  \n",
            "627906          0       0  \n",
            "627907          0       0  \n",
            "627908          0       0  \n"
          ]
        }
      ],
      "source": [
        "print(Country_wise.tail(10))"
      ]
    },
    {
      "cell_type": "code",
      "execution_count": null,
      "metadata": {
        "id": "y1pj4etcjX7N",
        "colab": {
          "base_uri": "https://localhost:8080/"
        },
        "outputId": "e636c862-343f-4930-c4a5-a507a3c1b57a"
      },
      "outputs": [
        {
          "output_type": "stream",
          "name": "stdout",
          "text": [
            "0\n"
          ]
        }
      ],
      "source": [
        "print(Country_wise.duplicated().sum())"
      ]
    },
    {
      "cell_type": "code",
      "execution_count": null,
      "metadata": {
        "id": "NTfPmySFjgPA",
        "colab": {
          "base_uri": "https://localhost:8080/"
        },
        "outputId": "632b4cbd-8998-465e-87ea-3753c6713681"
      },
      "outputs": [
        {
          "output_type": "stream",
          "name": "stdout",
          "text": [
            "         UID iso2 iso3  code3     FIPS        Admin2 Province_State  \\\n",
            "3   63072001   PR  PRI    630  72001.0      Adjuntas    Puerto Rico   \n",
            "4   63072003   PR  PRI    630  72003.0        Aguada    Puerto Rico   \n",
            "5   63072005   PR  PRI    630  72005.0     Aguadilla    Puerto Rico   \n",
            "6   63072007   PR  PRI    630  72007.0  Aguas Buenas    Puerto Rico   \n",
            "7   63072009   PR  PRI    630  72009.0      Aibonito    Puerto Rico   \n",
            "8   63072011   PR  PRI    630  72011.0        Anasco    Puerto Rico   \n",
            "9   63072013   PR  PRI    630  72013.0       Arecibo    Puerto Rico   \n",
            "10  63072015   PR  PRI    630  72015.0        Arroyo    Puerto Rico   \n",
            "11  63072017   PR  PRI    630  72017.0   Barceloneta    Puerto Rico   \n",
            "12  63072019   PR  PRI    630  72019.0  Barranquitas    Puerto Rico   \n",
            "\n",
            "   Country_Region        Lat      Long_                   Combined_Key  \\\n",
            "3              US  18.180117 -66.754367      Adjuntas, Puerto Rico, US   \n",
            "4              US  18.360255 -67.175131        Aguada, Puerto Rico, US   \n",
            "5              US  18.459681 -67.120815     Aguadilla, Puerto Rico, US   \n",
            "6              US  18.251619 -66.126806  Aguas Buenas, Puerto Rico, US   \n",
            "7              US  18.131361 -66.264131      Aibonito, Puerto Rico, US   \n",
            "8              US  18.287985 -67.120611        Anasco, Puerto Rico, US   \n",
            "9              US  18.406631 -66.675077       Arecibo, Puerto Rico, US   \n",
            "10             US  17.998457 -66.056546        Arroyo, Puerto Rico, US   \n",
            "11             US  18.445533 -66.560531   Barceloneta, Puerto Rico, US   \n",
            "12             US  18.201592 -66.309630  Barranquitas, Puerto Rico, US   \n",
            "\n",
            "         Date  Confirmed  Deaths  \n",
            "3  2020-01-22          0       0  \n",
            "4  2020-01-22          0       0  \n",
            "5  2020-01-22          0       0  \n",
            "6  2020-01-22          0       0  \n",
            "7  2020-01-22          0       0  \n",
            "8  2020-01-22          0       0  \n",
            "9  2020-01-22          0       0  \n",
            "10 2020-01-22          0       0  \n",
            "11 2020-01-22          0       0  \n",
            "12 2020-01-22          0       0  \n"
          ]
        },
        {
          "output_type": "stream",
          "name": "stderr",
          "text": [
            "<ipython-input-60-f029faeb4277>:2: UserWarning: Could not infer format, so each element will be parsed individually, falling back to `dateutil`. To ensure parsing is consistent and as-expected, please specify a format.\n",
            "  Country_wise['Date'] = pd.to_datetime(Country_wise['Date'])\n",
            "<ipython-input-60-f029faeb4277>:2: SettingWithCopyWarning: \n",
            "A value is trying to be set on a copy of a slice from a DataFrame.\n",
            "Try using .loc[row_indexer,col_indexer] = value instead\n",
            "\n",
            "See the caveats in the documentation: https://pandas.pydata.org/pandas-docs/stable/user_guide/indexing.html#returning-a-view-versus-a-copy\n",
            "  Country_wise['Date'] = pd.to_datetime(Country_wise['Date'])\n"
          ]
        }
      ],
      "source": [
        "# Convert all dates to a single format (ISO format: YYYY-MM-DD)\n",
        "Country_wise['Date'] = pd.to_datetime(Country_wise['Date'])\n",
        "\n",
        "print(Country_wise.head(10))"
      ]
    },
    {
      "cell_type": "code",
      "execution_count": null,
      "metadata": {
        "id": "-uHWHXfmx_Rv",
        "colab": {
          "base_uri": "https://localhost:8080/"
        },
        "outputId": "6b013442-a7a2-4fdf-eb80-56f8a88689cc"
      },
      "outputs": [
        {
          "output_type": "stream",
          "name": "stdout",
          "text": [
            "Requirement already satisfied: country_converter in /usr/local/lib/python3.10/dist-packages (1.3)\n",
            "Requirement already satisfied: pandas>=1.0 in /usr/local/lib/python3.10/dist-packages (from country_converter) (2.2.2)\n",
            "Requirement already satisfied: numpy>=1.22.4 in /usr/local/lib/python3.10/dist-packages (from pandas>=1.0->country_converter) (1.26.4)\n",
            "Requirement already satisfied: python-dateutil>=2.8.2 in /usr/local/lib/python3.10/dist-packages (from pandas>=1.0->country_converter) (2.8.2)\n",
            "Requirement already satisfied: pytz>=2020.1 in /usr/local/lib/python3.10/dist-packages (from pandas>=1.0->country_converter) (2024.2)\n",
            "Requirement already satisfied: tzdata>=2022.7 in /usr/local/lib/python3.10/dist-packages (from pandas>=1.0->country_converter) (2024.2)\n",
            "Requirement already satisfied: six>=1.5 in /usr/local/lib/python3.10/dist-packages (from python-dateutil>=2.8.2->pandas>=1.0->country_converter) (1.17.0)\n"
          ]
        }
      ],
      "source": [
        "!pip install country_converter\n",
        "import country_converter as coco\n"
      ]
    },
    {
      "cell_type": "code",
      "execution_count": 63,
      "metadata": {
        "id": "0b9wZ4sjaxeG",
        "colab": {
          "base_uri": "https://localhost:8080/"
        },
        "outputId": "c04a8dac-6a66-4c91-b3f1-cc01fd908238"
      },
      "outputs": [
        {
          "output_type": "stream",
          "name": "stderr",
          "text": [
            "<ipython-input-63-99cc86781bc6>:1: SettingWithCopyWarning: \n",
            "A value is trying to be set on a copy of a slice from a DataFrame.\n",
            "Try using .loc[row_indexer,col_indexer] = value instead\n",
            "\n",
            "See the caveats in the documentation: https://pandas.pydata.org/pandas-docs/stable/user_guide/indexing.html#returning-a-view-versus-a-copy\n",
            "  Country_wise['Country_Region'] = coco.convert(names=Country_wise['Country_Region'], to='name_short')\n",
            "<ipython-input-63-99cc86781bc6>:1: SettingWithCopyWarning: \n",
            "A value is trying to be set on a copy of a slice from a DataFrame.\n",
            "Try using .loc[row_indexer,col_indexer] = value instead\n",
            "\n",
            "See the caveats in the documentation: https://pandas.pydata.org/pandas-docs/stable/user_guide/indexing.html#returning-a-view-versus-a-copy\n",
            "  Country_wise['Country_Region'] = coco.convert(names=Country_wise['Country_Region'], to='name_short')\n"
          ]
        }
      ],
      "source": [
        "Country_wise['Country_Region'] = coco.convert(names=Country_wise['Country_Region'], to='name_short')"
      ]
    },
    {
      "cell_type": "code",
      "execution_count": null,
      "metadata": {
        "id": "wHbgbBW_4vSw"
      },
      "outputs": [],
      "source": [
        "#Normalize data to ensure consistency across all numerical features\n",
        "import numpy as np\n",
        "from sklearn.preprocessing import  MinMaxScaler\n",
        "numerical_features = Country_wise[['Confirmed', 'Deaths']]"
      ]
    },
    {
      "cell_type": "code",
      "execution_count": null,
      "metadata": {
        "id": "V00AlyQu5ARp"
      },
      "outputs": [],
      "source": [
        "# Select the columns to normalize\n",
        "numerical_features = Country_wise[['Confirmed', 'Deaths']]"
      ]
    },
    {
      "cell_type": "code",
      "execution_count": null,
      "metadata": {
        "id": "gH8jMwYw5Dvc"
      },
      "outputs": [],
      "source": [
        "# Normalize using Min-Max scaling (values between 0 and 1)\n",
        "normalized_data = (numerical_features - numerical_features.min()) / (numerical_features.max() - numerical_features.min())"
      ]
    },
    {
      "cell_type": "code",
      "execution_count": null,
      "metadata": {
        "id": "okkWkAUx5G8q"
      },
      "outputs": [],
      "source": [
        "# Update the original DataFrame with the normalized values\n",
        "Country_wise[['Confirmed','Deaths']] = normalized_data"
      ]
    },
    {
      "cell_type": "code",
      "execution_count": null,
      "metadata": {
        "id": "2iyRJjwQ5KcC"
      },
      "outputs": [],
      "source": [
        "# Save the preprocessed dataset\n",
        "Country_wise.to_csv('processed_dataset.csv', index=False)"
      ]
    },
    {
      "cell_type": "code",
      "execution_count": null,
      "metadata": {
        "id": "DsADRvx25OCe"
      },
      "outputs": [],
      "source": [
        "# Display sample of the processed data\n",
        "print(Country_wise.head())"
      ]
    },
    {
      "cell_type": "code",
      "execution_count": null,
      "metadata": {
        "id": "4rmDrgMC5khx"
      },
      "outputs": [],
      "source": [
        "# Ensure the dataset is sorted by Date for each Country/Region\n",
        "Country_wise['Date'] = pd.to_datetime(Country_wise['Date'])\n",
        "Country_wise = Country_wise.sort_values(by=['Country_Region', 'Date'])"
      ]
    },
    {
      "cell_type": "code",
      "execution_count": null,
      "metadata": {
        "id": "v3mHcLEL5zYy"
      },
      "outputs": [],
      "source": [
        "# Creating new variables ( mortality ratio, death growth rate)\n",
        "# Calculate mortality ratio (Deaths / Confirmed)\n",
        "Country_wise['Mortality Ratio (%)'] = (Country_wise['Deaths'] / Country_wise['Confirmed']) * 100"
      ]
    },
    {
      "cell_type": "code",
      "execution_count": null,
      "metadata": {
        "id": "kF9wiyN-5znN"
      },
      "outputs": [],
      "source": [
        "print (Country_wise['Mortality Ratio (%)'].head())"
      ]
    },
    {
      "cell_type": "code",
      "execution_count": null,
      "metadata": {
        "id": "mx6pKVW46Bxb"
      },
      "outputs": [],
      "source": [
        "# Calculate death growth rate\n",
        "Country_wise['Death Growth Rate (%)'] = Country_wise.groupby('Country_Region')['Deaths'].pct_change() * 100"
      ]
    },
    {
      "cell_type": "code",
      "execution_count": null,
      "metadata": {
        "id": "qUKLzstv6CJh"
      },
      "outputs": [],
      "source": [
        "print(Country_wise['Death Growth Rate (%)'].head())"
      ]
    },
    {
      "cell_type": "code",
      "execution_count": null,
      "metadata": {
        "id": "RadoSCCP6dsH"
      },
      "outputs": [],
      "source": [
        "Country_wise.shape"
      ]
    },
    {
      "cell_type": "code",
      "execution_count": null,
      "metadata": {
        "id": "mxje5O9a6igb"
      },
      "outputs": [],
      "source": [
        "print(Country_wise.head())"
      ]
    },
    {
      "cell_type": "code",
      "execution_count": null,
      "metadata": {
        "id": "OAqYX5UR6rp6"
      },
      "outputs": [],
      "source": [
        "# Save the results to a new CSV\n",
        "Country_wise.to_csv('usa_covid19_analysis.csv', index=False)"
      ]
    },
    {
      "cell_type": "code",
      "execution_count": null,
      "metadata": {
        "id": "nNPa3lhs7GUQ"
      },
      "outputs": [],
      "source": [
        "#Exploratory Data Analysis\n",
        "import seaborn as sns\n",
        "import matplotlib.pyplot as plt"
      ]
    },
    {
      "cell_type": "code",
      "execution_count": null,
      "metadata": {
        "id": "fcFLzuYpLj_O"
      },
      "outputs": [],
      "source": [
        "# Create the line chart\n",
        "#Exploratory Data Analysis\n",
        "import seaborn as sns\n",
        "import matplotlib.pyplot as plt # Import matplotlib.pyplot\n",
        "\n",
        "#Trend of Confirmed rate over time\n",
        "# Plotting a line chart for the Confirmed rate of Covid-19 over time\n",
        "plt.figure(figsize=(12, 6))\n",
        "plt.plot(Country_wise['Date'], Country_wise['Confirmed'], marker='o', linestyle='-')\n",
        "plt.xlabel('Date', fontsize=12)\n",
        "plt.ylabel('Confirmed Cases', fontsize=12)\n",
        "plt.legend(['Confirmed Cases'], loc='upper left')\n",
        "plt.title('Trend of Confirmed COVID-19 Cases Over Time', fontsize=14)\n",
        "plt.xticks(rotation=90)\n",
        "plt.tight_layout()\n",
        "plt.show()\n",
        "\n"
      ]
    },
    {
      "cell_type": "code",
      "execution_count": null,
      "metadata": {
        "id": "DCD1m2dXAn20"
      },
      "outputs": [],
      "source": [
        "#Mortality raio over time\n",
        "# Plotting the Mortality Ratio over time\n",
        "import matplotlib.pyplot as plt\n",
        "plt.figure(figsize=(12, 6))\n",
        "plt.plot(Country_wise['Date'], Country_wise['Mortality Ratio (%)'], marker='o', linestyle='-')\n",
        "plt.xlabel('Date', fontsize=12)\n",
        "plt.ylabel('Mortality Ratio (%)', fontsize=12)\n",
        "plt.legend(['Mortality Ratio'], loc='upper left')\n",
        "plt.title('Mortality Ratio Over Time', fontsize=14)\n",
        "plt.xticks(rotation=90)\n",
        "plt.tight_layout()\n",
        "plt.show"
      ]
    },
    {
      "cell_type": "code",
      "execution_count": null,
      "metadata": {
        "id": "QJCm_WRXDXEc"
      },
      "outputs": [],
      "source": [
        "#Using Time series for prediction\n",
        "!pip install prophet"
      ]
    },
    {
      "cell_type": "code",
      "source": [
        "import pandas as pd\n",
        "from prophet import Prophet\n",
        "from sklearn.model_selection import train_test_split\n",
        "from sklearn.ensemble import RandomForestClassifier\n",
        "from sklearn.metrics import accuracy_score, classification_report"
      ],
      "metadata": {
        "id": "M0fWDmDV5rSK"
      },
      "execution_count": null,
      "outputs": []
    },
    {
      "cell_type": "code",
      "source": [
        "#  Prepare data for Prophet, grouping by state and date\n",
        "state_data = Country_wise.groupby(['Province_State', 'Date'])[['Confirmed', 'Lat', 'Long_']].sum().reset_index()\n",
        "state_data.columns = ['Province_State', 'ds', 'y', 'Lat', 'Long_']  # Rename columns for Prophet"
      ],
      "metadata": {
        "id": "sSBk2eyUU_Ol"
      },
      "execution_count": null,
      "outputs": []
    },
    {
      "cell_type": "code",
      "source": [
        "# Create and fit the Prophet model for each state\n",
        "all_forecasts = pd.DataFrame()  # To store all state-level forecasts\n",
        "\n",
        "for state in state_data['Province_State'].unique():\n",
        "    state_df = state_data[state_data['Province_State'] == state]\n",
        "\n",
        "    model = Prophet()\n",
        "    model.add_regressor('Lat')\n",
        "    model.add_regressor('Long_')\n",
        "    model.fit(state_df)\n",
        "\n",
        "    future = model.make_future_dataframe(periods=30)\n",
        "    future['Lat'] = state_df['Lat'].iloc[-1]  # Use the last known latitude for the state\n",
        "    future['Long_'] = state_df['Long_'].iloc[-1]  # Use the last known longitude for the state\n",
        "\n",
        "    forecast = model.predict(future)\n",
        "\n",
        "     # Add the 'Province_State' column to the forecast DataFrame\n",
        "    forecast['Province_State'] = state\n",
        "\n",
        "    all_forecasts = pd.concat([all_forecasts, forecast], ignore_index=True)"
      ],
      "metadata": {
        "id": "CCLmxPauVIr1"
      },
      "execution_count": null,
      "outputs": []
    },
    {
      "cell_type": "code",
      "source": [
        "print(state_data)"
      ],
      "metadata": {
        "id": "93RhZ1M4Wk9w"
      },
      "execution_count": null,
      "outputs": []
    },
    {
      "cell_type": "code",
      "execution_count": null,
      "metadata": {
        "id": "eVnnWSs0K1Vp"
      },
      "outputs": [],
      "source": [
        "print(all_forecasts)"
      ]
    },
    {
      "cell_type": "code",
      "source": [
        "plt.figure(figsize=(12, 6))\n",
        "plt.plot(all_forecasts['ds'], all_forecasts['yhat'], label='Forecast')"
      ],
      "metadata": {
        "id": "dyponFChXHs9",
        "colab": {
          "base_uri": "https://localhost:8080/",
          "height": 540
        },
        "outputId": "9758d3fb-261a-4c5b-878d-492dfb57a5fa"
      },
      "execution_count": 65,
      "outputs": [
        {
          "output_type": "execute_result",
          "data": {
            "text/plain": [
              "[<matplotlib.lines.Line2D at 0x79dbe3aa7d30>]"
            ]
          },
          "metadata": {},
          "execution_count": 65
        },
        {
          "output_type": "display_data",
          "data": {
            "text/plain": [
              "<Figure size 1200x600 with 1 Axes>"
            ],
            "image/png": "[encoded data removed]"
          },
          "metadata": {}
        }
      ]
    },
    {
      "cell_type": "code",
      "execution_count": null,
      "metadata": {
        "id": "haF3x-PJM9ci"
      },
      "outputs": [],
      "source": [
        "#Prediction using classification method\n",
        "#Select features and target variable\n",
        "features = ['Lat', 'Long_']  # Geographical features\n",
        "target = 'Confirmed'  # Target variable"
      ]
    },
    {
      "cell_type": "code",
      "execution_count": null,
      "metadata": {
        "id": "J6jTLfl8M6l4"
      },
      "outputs": [],
      "source": [
        "# Split data into training and testing sets\n",
        "X= Country_wise[features]\n",
        "y = Country_wise[target]\n",
        "X_train, X_test, y_train, y_test = train_test_split(X, y, test_size=0.2, random_state=42)"
      ]
    },
    {
      "cell_type": "code",
      "source": [
        "plt.xlabel('Latitude,Longitude')  # Combine Longitude and Latitude into a single string\n",
        "plt.ylabel('Confirmed Cases')\n",
        "plt.scatter(Country_wise['Long_'], Country_wise['Lat'], c=Country_wise['Confirmed'], cmap='viridis', alpha=0.7)\n",
        "plt.colorbar(label='Confirmed Cases')\n",
        "plt.legend(['Confirmed Cases'])\n",
        "plt.title('Geographical Distribution of Confirmed Cases')\n",
        "plt.show()"
      ],
      "metadata": {
        "id": "wb1hi7Rk2_nH"
      },
      "execution_count": null,
      "outputs": []
    },
    {
      "cell_type": "code",
      "execution_count": null,
      "metadata": {
        "id": "Xom4MevXORZA"
      },
      "outputs": [],
      "source": [
        "#Using RandomForest Regression\n",
        "from sklearn.ensemble import RandomForestRegressor # Import the RandomForestRegressor class\n",
        "model = RandomForestRegressor(random_state=42) # Change to RandomForestRegressor\n",
        "model.fit(X_train, y_train)"
      ]
    },
    {
      "cell_type": "code",
      "execution_count": null,
      "metadata": {
        "id": "xqeDmoxWOYM6"
      },
      "outputs": [],
      "source": [
        "# Make predictions on the test set\n",
        "y_pred = model.predict(X_test)\n"
      ]
    },
    {
      "cell_type": "code",
      "source": [
        "#Evaluation using RMSE\n",
        "from sklearn.metrics import mean_squared_error # Import mean_squared_error\n",
        "rmse = np.sqrt(mean_squared_error(y_test, y_pred))\n",
        "print(f'Root Mean Squared Error (RMSE): {rmse}')"
      ],
      "metadata": {
        "id": "gnMrIjc-fnZx"
      },
      "execution_count": null,
      "outputs": []
    },
    {
      "cell_type": "code",
      "source": [
        "My_predictions= pd.DataFrame({'Actual': y_test, 'Predicted': y_pred})\n",
        "print(My_predictions)"
      ],
      "metadata": {
        "id": "Us8OU0fczLbq"
      },
      "execution_count": null,
      "outputs": []
    }
  ],
  "metadata": {
    "colab": {
      "provenance": [],
      "authorship_tag": "ABX9TyOZ6prRz/tCgXrGgWzGbWYn",
      "include_colab_link": true
    },
    "kernelspec": {
      "display_name": "Python 3",
      "name": "python3"
    },
    "language_info": {
      "name": "python"
    }
  },
  "nbformat": 4,
  "nbformat_minor": 0
}